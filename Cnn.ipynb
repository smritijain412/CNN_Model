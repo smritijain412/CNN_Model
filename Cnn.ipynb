{
  "nbformat": 4,
  "nbformat_minor": 0,
  "metadata": {
    "colab": {
      "name": "Cnn.ipynb",
      "provenance": [],
      "private_outputs": true
    },
    "kernelspec": {
      "name": "python3",
      "display_name": "Python 3"
    },
    "accelerator": "GPU"
  },
  "cells": [
    {
      "cell_type": "code",
      "metadata": {
        "id": "rM_D-B8AetXP",
        "colab_type": "code",
        "colab": {}
      },
      "source": [
        "import numpy as np\n",
        "import pandas as pd\n",
        "import keras.datasets as ds\n",
        "#load_dataset\n",
        "(X_train, y_train), (X_test, y_test) = ds.fashion_mnist.load_data()\n",
        "#check shape of dataset and rank \n",
        "y=X_train.shape\n",
        "print('shape of dataframe',y)"
      ],
      "execution_count": null,
      "outputs": []
    },
    {
      "cell_type": "markdown",
      "metadata": {
        "id": "cNeyPfYDjo2R",
        "colab_type": "text"
      },
      "source": [
        "shape of dataframe has no pixel value \n",
        "1 or 3; \n",
        "1=> grayscale\n",
        "3=>rgb\n"
      ]
    },
    {
      "cell_type": "code",
      "metadata": {
        "id": "mBLx_EnVhF-c",
        "colab_type": "code",
        "colab": {}
      },
      "source": [
        "#import all libraries \n",
        "from keras.models import Sequential\n",
        "from keras.layers import Conv2D,MaxPooling2D,Flatten,Dense,Dropout,BatchNormalization,Activation,MaxPool2D\n",
        "from tensorflow.keras.callbacks import ModelCheckpoint\n",
        "from keras.utils import np_utils\n",
        "from sklearn.model_selection import train_test_split\n",
        "from keras.utils import np_utils"
      ],
      "execution_count": null,
      "outputs": []
    },
    {
      "cell_type": "code",
      "metadata": {
        "id": "SKoaeJuge4Xq",
        "colab_type": "code",
        "colab": {}
      },
      "source": [
        "#check rank of dataset \n",
        "import  numpy as np\n",
        "def shape_rank(train_data,test_data):\n",
        "    global X_train,X_test\n",
        "    if len(y)==4 :   \n",
        "        print (\"no need to convert\")\n",
        "    #afte that we reshape the array size \n",
        "    else :\n",
        "        X_train=train_data.reshape((-1,y[1],y[2],1))\n",
        "        X_test=test_data.reshape((-1,y[1],y[2],1))\n",
        "    #return  x_train,x_test\n",
        "shape_rank(X_train,X_test)\n"
      ],
      "execution_count": null,
      "outputs": []
    },
    {
      "cell_type": "code",
      "metadata": {
        "id": "-IsJOUBGgSN2",
        "colab_type": "code",
        "colab": {}
      },
      "source": [
        "print(\"after reshape the array \",X_train.shape)"
      ],
      "execution_count": null,
      "outputs": []
    },
    {
      "cell_type": "markdown",
      "metadata": {
        "id": "OkOGeTmZkZTk",
        "colab_type": "text"
      },
      "source": [
        "after reshape the array of dataset. this dataset has grayscale images \n"
      ]
    },
    {
      "cell_type": "code",
      "metadata": {
        "id": "-751FlCBgVlR",
        "colab_type": "code",
        "colab": {}
      },
      "source": [
        "from keras.utils import np_utils\n",
        "#now split y dataset or predictor dataset into categories; we have 10 categories \n",
        "\n",
        "def categorical(Y_train_data,y_test_data,num_classes):\n",
        "    global y_train,y_test\n",
        "    y_train = np_utils.to_categorical(Y_train_data, num_classes)\n",
        "    y_test = np_utils.to_categorical(y_test_data, num_classes)\n",
        "    #return y_train1,y_test1\n",
        "num=int(input(\"enter classes or label no.\"))\n",
        "categorical(y_train,y_test,num)\n",
        "print(\"y data shape\",y_train.shape,y_test.shape)\n"
      ],
      "execution_count": null,
      "outputs": []
    },
    {
      "cell_type": "code",
      "metadata": {
        "id": "_Hy1CRrkgcZS",
        "colab_type": "code",
        "colab": {}
      },
      "source": [
        "#split data set into train and valid \n",
        "from sklearn.model_selection import train_test_split\n",
        "x_train, X_valid, Y_train, y_valid = train_test_split(X_train, y_train, test_size=0.2)\n",
        "\n",
        "img_size=x_train[0].shape\n",
        "print(\"image length,width,and format\",img_size)"
      ],
      "execution_count": null,
      "outputs": []
    },
    {
      "cell_type": "code",
      "metadata": {
        "id": "IFXb5vlPgz-j",
        "colab_type": "code",
        "colab": {}
      },
      "source": [
        "Y_train.shape"
      ],
      "execution_count": null,
      "outputs": []
    },
    {
      "cell_type": "code",
      "metadata": {
        "id": "dJ8Ocbolg8Zq",
        "colab_type": "code",
        "colab": {}
      },
      "source": [
        "input_shape = (img_size[0],img_size[1],img_size[2])\n"
      ],
      "execution_count": null,
      "outputs": []
    },
    {
      "cell_type": "code",
      "metadata": {
        "id": "QgE6O0u9hEav",
        "colab_type": "code",
        "colab": {}
      },
      "source": [
        "#now initialize Sequential layer; we use 16 filters and img_size is already define\n",
        "model=Sequential()\n",
        "model.add(Conv2D(filters = 16, kernel_size = (3,3), activation='relu',\n",
        "                     input_shape = (img_size[0],img_size[1],img_size[2])))\n",
        "model.add(BatchNormalization())"
      ],
      "execution_count": null,
      "outputs": []
    },
    {
      "cell_type": "code",
      "metadata": {
        "id": "HfGkdVBuhQs3",
        "colab_type": "code",
        "colab": {}
      },
      "source": [
        "\n",
        "def layers():\n",
        "\n",
        "    \n",
        "#1\n",
        "    model.add(Conv2D(filters = 16, kernel_size = (3, 3), activation='relu'))\n",
        "    model.add(BatchNormalization())\n",
        "#2\n",
        "    model.add(Conv2D(filters = 16, kernel_size = (3, 3), activation='relu'))\n",
        "    model.add(BatchNormalization())\n",
        "#3\n",
        "    model.add(Conv2D(filters = 16, kernel_size = (3, 3), activation='relu'))\n",
        "    model.add(BatchNormalization())\n",
        "    model.add(MaxPool2D(strides=(2,2)))\n",
        "    model.add(Dropout(0.25))\n",
        "    model.add(Flatten())\n",
        "#4\n",
        "    model.add(Dense(512, activation='relu'))\n",
        "    model.add(Dropout(0.25))\n",
        "    model.add(Dense(1024, activation='relu'))\n",
        "    model.add(Dropout(0.5))\n"
      ],
      "execution_count": null,
      "outputs": []
    },
    {
      "cell_type": "code",
      "metadata": {
        "id": "1yFKAyDFhTVT",
        "colab_type": "code",
        "colab": {}
      },
      "source": [
        "#call the function\n",
        "layers()"
      ],
      "execution_count": null,
      "outputs": []
    },
    {
      "cell_type": "code",
      "metadata": {
        "id": "vnAwI0BHhWL9",
        "colab_type": "code",
        "colab": {}
      },
      "source": [
        "#add dense output layer\n",
        "model.add(Dense(10,activation='sigmoid'))"
      ],
      "execution_count": null,
      "outputs": []
    },
    {
      "cell_type": "code",
      "metadata": {
        "id": "g-SUMPdghbhO",
        "colab_type": "code",
        "colab": {}
      },
      "source": [
        "#compile  \n",
        "from keras.optimizers import Adam\n",
        "model.compile(loss='categorical_crossentropy',optimizer=Adam(lr=0.0003, decay=1e-4),metrics=['accuracy'])"
      ],
      "execution_count": null,
      "outputs": []
    },
    {
      "cell_type": "code",
      "metadata": {
        "id": "heriOpqzhom0",
        "colab_type": "code",
        "colab": {}
      },
      "source": [
        "model.summary()"
      ],
      "execution_count": null,
      "outputs": []
    },
    {
      "cell_type": "code",
      "metadata": {
        "id": "zTeVVBjVhsBq",
        "colab_type": "code",
        "colab": {}
      },
      "source": [
        "#image augmentation rotate dataset images and increase image set and its avoid overfitting\n",
        "from keras.preprocessing.image  import ImageDataGenerator\n",
        "train_data=ImageDataGenerator(rescale=1./255,shear_range=0.2,zoom_range=0.2,horizontal_flip=True)\n",
        "test_data=ImageDataGenerator(rescale=1./255)\n",
        "#train_data.flow_from_directory('')\n",
        "datagen = ImageDataGenerator(featurewise_center=False,\n",
        "                            samplewise_center=False,\n",
        "                            featurewise_std_normalization=False,\n",
        "                            samplewise_std_normalization=False,\n",
        "                            zca_whitening=False,\n",
        "                            rotation_range=15,\n",
        "                            width_shift_range=0.1,\n",
        "                            height_shift_range=0.1,\n",
        "                            horizontal_flip=True,\n",
        "                            vertical_flip=False)\n",
        "\n",
        "datagen.fit(x_train)"
      ],
      "execution_count": null,
      "outputs": []
    },
    {
      "cell_type": "code",
      "metadata": {
        "id": "dD_jNaEUhs0Y",
        "colab_type": "code",
        "colab": {}
      },
      "source": [
        "his = model.fit_generator(datagen.flow(x_train, Y_train, batch_size=128),\n",
        "                           #steps_per_epoch=200,\n",
        "                           epochs=10, \n",
        "                           verbose=2,  #1 for ETA, 0 for silent\n",
        "                           validation_data=(X_valid, y_valid)) \n"
      ],
      "execution_count": null,
      "outputs": []
    },
    {
      "cell_type": "code",
      "metadata": {
        "id": "DZrv5mHUhxlk",
        "colab_type": "code",
        "colab": {}
      },
      "source": [
        "final_loss, final_acc = model.evaluate(X_valid, y_valid, verbose=0)\n",
        "final_acc"
      ],
      "execution_count": null,
      "outputs": []
    },
    {
      "cell_type": "code",
      "metadata": {
        "id": "tkh3SWyUmJAj",
        "colab_type": "code",
        "colab": {}
      },
      "source": [
        "final_loss"
      ],
      "execution_count": null,
      "outputs": []
    },
    {
      "cell_type": "code",
      "metadata": {
        "id": "P1CVhaaLv4AU",
        "colab_type": "code",
        "colab": {}
      },
      "source": [
        "import matplotlib.pyplot as plt\n",
        "plt.plot(his.history['accuracy'], label='accuracy')\n",
        "plt.plot(his.history['val_accuracy'], label = 'val_accuracy')\n",
        "plt.xlabel('Epoch')\n",
        "plt.ylabel('Accuracy')\n",
        "plt.ylim([0.5, 1])\n",
        "plt.legend(loc='lower right')"
      ],
      "execution_count": null,
      "outputs": []
    },
    {
      "cell_type": "code",
      "metadata": {
        "id": "-ZG1zNFlw3iO",
        "colab_type": "code",
        "colab": {}
      },
      "source": [
        "for i in range(6):\n",
        "\t# define subplot\n",
        "\tplt.subplot(330 + 1 + i)\n",
        "\t# plot raw pixel data\n",
        "\tplt.imshow(x_train[i][:,:,0])\n",
        "plt.show()"
      ],
      "execution_count": null,
      "outputs": []
    },
    {
      "cell_type": "code",
      "metadata": {
        "id": "fpvs0Wp6mUw0",
        "colab_type": "code",
        "colab": {}
      },
      "source": [
        "# 2 dataset \n",
        "#load_dataset\n",
        "(X1_train, y1_train), (X1_test, y1_test) = ds.cifar10.load_data()\n",
        "#check shape of dataset and rank \n",
        "y1=X1_train.shape\n",
        "print('shape of dataframe',y)\n"
      ],
      "execution_count": null,
      "outputs": []
    },
    {
      "cell_type": "code",
      "metadata": {
        "id": "mxiY_P8Tmrt_",
        "colab_type": "code",
        "colab": {}
      },
      "source": [
        "shape_rank(X1_train,X1_test)\n"
      ],
      "execution_count": null,
      "outputs": []
    },
    {
      "cell_type": "code",
      "metadata": {
        "id": "ryRtIn6Fmwv9",
        "colab_type": "code",
        "colab": {}
      },
      "source": [
        "num1=int(input(\"enter classes or label no.\"))\n",
        "categorical(y1_train,y1_test,num)\n",
        "print(\"y data shape\",y1_train.shape,y1_test.shape)\n"
      ],
      "execution_count": null,
      "outputs": []
    },
    {
      "cell_type": "code",
      "metadata": {
        "id": "T4_wSGjsm2oa",
        "colab_type": "code",
        "colab": {}
      },
      "source": [
        "#split data set into train and valid \n",
        "from sklearn.model_selection import train_test_split\n",
        "x1_train, X1_valid, Y1_train, y1_valid = train_test_split(X1_train, y1_train, test_size=0.2)\n",
        "\n",
        "img_size1=x1_train[0].shape\n",
        "print(\"image length,width,and format\",img_size)"
      ],
      "execution_count": null,
      "outputs": []
    },
    {
      "cell_type": "code",
      "metadata": {
        "id": "TOUQDJwinBlc",
        "colab_type": "code",
        "colab": {}
      },
      "source": [
        "Y1_train.shape"
      ],
      "execution_count": null,
      "outputs": []
    },
    {
      "cell_type": "code",
      "metadata": {
        "id": "1fdNIsH-nF4X",
        "colab_type": "code",
        "colab": {}
      },
      "source": [
        "#now initialize Sequential layer; we use 16 filters and img_size is already define\n",
        "model=Sequential()\n",
        "model.add(Conv2D(filters = 16, kernel_size = (3,3), activation='relu',\n",
        "                     input_shape = (img_size1[0],img_size1[1],img_size1[2])))\n",
        "model.add(BatchNormalization())"
      ],
      "execution_count": null,
      "outputs": []
    },
    {
      "cell_type": "code",
      "metadata": {
        "id": "j0dt1wMXnWsS",
        "colab_type": "code",
        "colab": {}
      },
      "source": [
        "layers()"
      ],
      "execution_count": null,
      "outputs": []
    },
    {
      "cell_type": "code",
      "metadata": {
        "id": "RfOd1EB8nYta",
        "colab_type": "code",
        "colab": {}
      },
      "source": [
        "model.add(Dense(10,activation='sigmoid'))"
      ],
      "execution_count": null,
      "outputs": []
    },
    {
      "cell_type": "code",
      "metadata": {
        "id": "hA1T60WJncHA",
        "colab_type": "code",
        "colab": {}
      },
      "source": [
        "datagen.fit(x1_train)"
      ],
      "execution_count": null,
      "outputs": []
    },
    {
      "cell_type": "code",
      "metadata": {
        "id": "gYXhHBtznuro",
        "colab_type": "code",
        "colab": {}
      },
      "source": [
        "#compile  \n",
        "model.compile(loss='categorical_crossentropy',optimizer=Adam(lr=0.0003, decay=1e-4),metrics=['accuracy'])"
      ],
      "execution_count": null,
      "outputs": []
    },
    {
      "cell_type": "code",
      "metadata": {
        "id": "jP-Bzk5vniPM",
        "colab_type": "code",
        "colab": {}
      },
      "source": [
        "hist = model.fit_generator(datagen.flow(x1_train, Y1_train, batch_size=128),\n",
        "                           #steps_per_epoch=200,\n",
        "                           epochs=10, \n",
        "                           verbose=2,  #1 for ETA, 0 for silent\n",
        "                           validation_data=(X1_valid, y1_valid))"
      ],
      "execution_count": null,
      "outputs": []
    },
    {
      "cell_type": "code",
      "metadata": {
        "id": "w2-P3EQUnsHl",
        "colab_type": "code",
        "colab": {}
      },
      "source": [
        "import matplotlib.pyplot as plt\n",
        "\n",
        "g = plt.imshow(X_train[1])\n"
      ],
      "execution_count": null,
      "outputs": []
    },
    {
      "cell_type": "code",
      "metadata": {
        "id": "YwwM18yluGGM",
        "colab_type": "code",
        "colab": {}
      },
      "source": [
        "plt.plot(hist.history['accuracy'], label='accuracy')\n",
        "plt.plot(hist.history['val_accuracy'], label = 'val_accuracy')\n",
        "plt.xlabel('Epoch')\n",
        "plt.ylabel('Accuracy')\n",
        "plt.ylim([0.5, 1])\n",
        "plt.legend(loc='lower right')"
      ],
      "execution_count": null,
      "outputs": []
    },
    {
      "cell_type": "code",
      "metadata": {
        "id": "H5BYxGNUvV-K",
        "colab_type": "code",
        "colab": {}
      },
      "source": [
        ""
      ],
      "execution_count": null,
      "outputs": []
    }
  ]
}